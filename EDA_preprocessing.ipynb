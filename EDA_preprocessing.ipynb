{
 "cells": [
  {
   "cell_type": "code",
   "execution_count": 1,
   "metadata": {},
   "outputs": [],
   "source": [
    "import numpy as np\n",
    "import pandas as pd\n",
    "import matplotlib.pyplot as plt\n",
    "import seaborn as sns\n",
    "import datetime\n",
    "%matplotlib inline"
   ]
  },
  {
   "cell_type": "code",
   "execution_count": 2,
   "metadata": {},
   "outputs": [],
   "source": [
    "# reading the data\n",
    "df=pd.read_csv('cleaned_data.csv')"
   ]
  },
  {
   "cell_type": "code",
   "execution_count": 3,
   "metadata": {},
   "outputs": [
    {
     "data": {
      "text/html": [
       "<div>\n",
       "<style scoped>\n",
       "    .dataframe tbody tr th:only-of-type {\n",
       "        vertical-align: middle;\n",
       "    }\n",
       "\n",
       "    .dataframe tbody tr th {\n",
       "        vertical-align: top;\n",
       "    }\n",
       "\n",
       "    .dataframe thead th {\n",
       "        text-align: right;\n",
       "    }\n",
       "</style>\n",
       "<table border=\"1\" class=\"dataframe\">\n",
       "  <thead>\n",
       "    <tr style=\"text-align: right;\">\n",
       "      <th></th>\n",
       "      <th>Name</th>\n",
       "      <th>Price</th>\n",
       "      <th>Distance_travelled</th>\n",
       "      <th>Date_of_purchase</th>\n",
       "      <th>Ownership</th>\n",
       "      <th>Fuel_type</th>\n",
       "      <th>Transmission</th>\n",
       "      <th>Insurance_type</th>\n",
       "      <th>City</th>\n",
       "      <th>Company_name</th>\n",
       "      <th>Model_name</th>\n",
       "    </tr>\n",
       "  </thead>\n",
       "  <tbody>\n",
       "    <tr>\n",
       "      <th>0</th>\n",
       "      <td>Maruti Wagon R 1.0 VXI</td>\n",
       "      <td>239899</td>\n",
       "      <td>12501</td>\n",
       "      <td>2011-03-01</td>\n",
       "      <td>First</td>\n",
       "      <td>Petrol</td>\n",
       "      <td>MANUAL</td>\n",
       "      <td>Comprehensive</td>\n",
       "      <td>NewDelhi</td>\n",
       "      <td>Maruti</td>\n",
       "      <td>Wagon R 1.0 VXI</td>\n",
       "    </tr>\n",
       "    <tr>\n",
       "      <th>1</th>\n",
       "      <td>Maruti Alto K10 LXI</td>\n",
       "      <td>178099</td>\n",
       "      <td>34028</td>\n",
       "      <td>2011-07-01</td>\n",
       "      <td>First</td>\n",
       "      <td>Petrol</td>\n",
       "      <td>MANUAL</td>\n",
       "      <td>Third Party</td>\n",
       "      <td>NewDelhi</td>\n",
       "      <td>Maruti</td>\n",
       "      <td>Alto K10 LXI</td>\n",
       "    </tr>\n",
       "    <tr>\n",
       "      <th>2</th>\n",
       "      <td>Maruti Swift ZDI</td>\n",
       "      <td>394199</td>\n",
       "      <td>24022</td>\n",
       "      <td>2013-05-01</td>\n",
       "      <td>First</td>\n",
       "      <td>Diesel</td>\n",
       "      <td>MANUAL</td>\n",
       "      <td>Comprehensive</td>\n",
       "      <td>NewDelhi</td>\n",
       "      <td>Maruti</td>\n",
       "      <td>Swift ZDI</td>\n",
       "    </tr>\n",
       "    <tr>\n",
       "      <th>3</th>\n",
       "      <td>Hyundai Santro Xing GL PLUS</td>\n",
       "      <td>231299</td>\n",
       "      <td>35726</td>\n",
       "      <td>2013-11-01</td>\n",
       "      <td>Second</td>\n",
       "      <td>Petrol</td>\n",
       "      <td>MANUAL</td>\n",
       "      <td>Third Party</td>\n",
       "      <td>NewDelhi</td>\n",
       "      <td>Hyundai</td>\n",
       "      <td>Santro Xing GL PLUS</td>\n",
       "    </tr>\n",
       "    <tr>\n",
       "      <th>4</th>\n",
       "      <td>Hyundai Grand i10 Sportz(O) 1.2 MT</td>\n",
       "      <td>452899</td>\n",
       "      <td>19994</td>\n",
       "      <td>2017-11-01</td>\n",
       "      <td>Second</td>\n",
       "      <td>Petrol</td>\n",
       "      <td>MANUAL</td>\n",
       "      <td>Zero Depreciation</td>\n",
       "      <td>NewDelhi</td>\n",
       "      <td>Hyundai</td>\n",
       "      <td>Grand i10 Sportz(O) 1.2 MT</td>\n",
       "    </tr>\n",
       "  </tbody>\n",
       "</table>\n",
       "</div>"
      ],
      "text/plain": [
       "                                 Name   Price  Distance_travelled  \\\n",
       "0              Maruti Wagon R 1.0 VXI  239899               12501   \n",
       "1                 Maruti Alto K10 LXI  178099               34028   \n",
       "2                    Maruti Swift ZDI  394199               24022   \n",
       "3         Hyundai Santro Xing GL PLUS  231299               35726   \n",
       "4  Hyundai Grand i10 Sportz(O) 1.2 MT  452899               19994   \n",
       "\n",
       "  Date_of_purchase Ownership Fuel_type Transmission     Insurance_type  \\\n",
       "0       2011-03-01     First    Petrol       MANUAL      Comprehensive   \n",
       "1       2011-07-01     First    Petrol       MANUAL        Third Party   \n",
       "2       2013-05-01     First    Diesel       MANUAL      Comprehensive   \n",
       "3       2013-11-01    Second    Petrol       MANUAL        Third Party   \n",
       "4       2017-11-01    Second    Petrol       MANUAL  Zero Depreciation   \n",
       "\n",
       "       City Company_name                  Model_name  \n",
       "0  NewDelhi       Maruti             Wagon R 1.0 VXI  \n",
       "1  NewDelhi       Maruti                Alto K10 LXI  \n",
       "2  NewDelhi       Maruti                   Swift ZDI  \n",
       "3  NewDelhi      Hyundai         Santro Xing GL PLUS  \n",
       "4  NewDelhi      Hyundai  Grand i10 Sportz(O) 1.2 MT  "
      ]
     },
     "execution_count": 3,
     "metadata": {},
     "output_type": "execute_result"
    }
   ],
   "source": [
    "df.head()"
   ]
  },
  {
   "cell_type": "code",
   "execution_count": 4,
   "metadata": {},
   "outputs": [],
   "source": [
    "# drop name column\n",
    "df.drop('Name',axis=1,inplace=True)"
   ]
  },
  {
   "cell_type": "code",
   "execution_count": 5,
   "metadata": {},
   "outputs": [
    {
     "data": {
      "text/html": [
       "<div>\n",
       "<style scoped>\n",
       "    .dataframe tbody tr th:only-of-type {\n",
       "        vertical-align: middle;\n",
       "    }\n",
       "\n",
       "    .dataframe tbody tr th {\n",
       "        vertical-align: top;\n",
       "    }\n",
       "\n",
       "    .dataframe thead th {\n",
       "        text-align: right;\n",
       "    }\n",
       "</style>\n",
       "<table border=\"1\" class=\"dataframe\">\n",
       "  <thead>\n",
       "    <tr style=\"text-align: right;\">\n",
       "      <th></th>\n",
       "      <th>Price</th>\n",
       "      <th>Distance_travelled</th>\n",
       "      <th>Date_of_purchase</th>\n",
       "      <th>Ownership</th>\n",
       "      <th>Fuel_type</th>\n",
       "      <th>Transmission</th>\n",
       "      <th>Insurance_type</th>\n",
       "      <th>City</th>\n",
       "      <th>Company_name</th>\n",
       "      <th>Model_name</th>\n",
       "    </tr>\n",
       "  </thead>\n",
       "  <tbody>\n",
       "    <tr>\n",
       "      <th>0</th>\n",
       "      <td>239899</td>\n",
       "      <td>12501</td>\n",
       "      <td>2011-03-01</td>\n",
       "      <td>First</td>\n",
       "      <td>Petrol</td>\n",
       "      <td>MANUAL</td>\n",
       "      <td>Comprehensive</td>\n",
       "      <td>NewDelhi</td>\n",
       "      <td>Maruti</td>\n",
       "      <td>Wagon R 1.0 VXI</td>\n",
       "    </tr>\n",
       "    <tr>\n",
       "      <th>1</th>\n",
       "      <td>178099</td>\n",
       "      <td>34028</td>\n",
       "      <td>2011-07-01</td>\n",
       "      <td>First</td>\n",
       "      <td>Petrol</td>\n",
       "      <td>MANUAL</td>\n",
       "      <td>Third Party</td>\n",
       "      <td>NewDelhi</td>\n",
       "      <td>Maruti</td>\n",
       "      <td>Alto K10 LXI</td>\n",
       "    </tr>\n",
       "    <tr>\n",
       "      <th>2</th>\n",
       "      <td>394199</td>\n",
       "      <td>24022</td>\n",
       "      <td>2013-05-01</td>\n",
       "      <td>First</td>\n",
       "      <td>Diesel</td>\n",
       "      <td>MANUAL</td>\n",
       "      <td>Comprehensive</td>\n",
       "      <td>NewDelhi</td>\n",
       "      <td>Maruti</td>\n",
       "      <td>Swift ZDI</td>\n",
       "    </tr>\n",
       "    <tr>\n",
       "      <th>3</th>\n",
       "      <td>231299</td>\n",
       "      <td>35726</td>\n",
       "      <td>2013-11-01</td>\n",
       "      <td>Second</td>\n",
       "      <td>Petrol</td>\n",
       "      <td>MANUAL</td>\n",
       "      <td>Third Party</td>\n",
       "      <td>NewDelhi</td>\n",
       "      <td>Hyundai</td>\n",
       "      <td>Santro Xing GL PLUS</td>\n",
       "    </tr>\n",
       "    <tr>\n",
       "      <th>4</th>\n",
       "      <td>452899</td>\n",
       "      <td>19994</td>\n",
       "      <td>2017-11-01</td>\n",
       "      <td>Second</td>\n",
       "      <td>Petrol</td>\n",
       "      <td>MANUAL</td>\n",
       "      <td>Zero Depreciation</td>\n",
       "      <td>NewDelhi</td>\n",
       "      <td>Hyundai</td>\n",
       "      <td>Grand i10 Sportz(O) 1.2 MT</td>\n",
       "    </tr>\n",
       "  </tbody>\n",
       "</table>\n",
       "</div>"
      ],
      "text/plain": [
       "    Price  Distance_travelled Date_of_purchase Ownership Fuel_type  \\\n",
       "0  239899               12501       2011-03-01     First    Petrol   \n",
       "1  178099               34028       2011-07-01     First    Petrol   \n",
       "2  394199               24022       2013-05-01     First    Diesel   \n",
       "3  231299               35726       2013-11-01    Second    Petrol   \n",
       "4  452899               19994       2017-11-01    Second    Petrol   \n",
       "\n",
       "  Transmission     Insurance_type      City Company_name  \\\n",
       "0       MANUAL      Comprehensive  NewDelhi       Maruti   \n",
       "1       MANUAL        Third Party  NewDelhi       Maruti   \n",
       "2       MANUAL      Comprehensive  NewDelhi       Maruti   \n",
       "3       MANUAL        Third Party  NewDelhi      Hyundai   \n",
       "4       MANUAL  Zero Depreciation  NewDelhi      Hyundai   \n",
       "\n",
       "                   Model_name  \n",
       "0             Wagon R 1.0 VXI  \n",
       "1                Alto K10 LXI  \n",
       "2                   Swift ZDI  \n",
       "3         Santro Xing GL PLUS  \n",
       "4  Grand i10 Sportz(O) 1.2 MT  "
      ]
     },
     "execution_count": 5,
     "metadata": {},
     "output_type": "execute_result"
    }
   ],
   "source": [
    "df.head()"
   ]
  },
  {
   "cell_type": "code",
   "execution_count": 6,
   "metadata": {},
   "outputs": [
    {
     "data": {
      "image/png": "[encoded data removed]",
      "text/plain": [
       "<Figure size 720x504 with 1 Axes>"
      ]
     },
     "metadata": {
      "needs_background": "light"
     },
     "output_type": "display_data"
    }
   ],
   "source": [
    "plt.figure(figsize=(10,7))\n",
    "sns.histplot(df['Price'])\n",
    "plt.ticklabel_format(style='plain', axis='x')"
   ]
  },
  {
   "cell_type": "markdown",
   "metadata": {},
   "source": [
    "Most of the prices are between 0 to 100000 and it is approximately noramlly distributed"
   ]
  },
  {
   "cell_type": "code",
   "execution_count": 7,
   "metadata": {},
   "outputs": [
    {
     "data": {
      "image/png": "[encoded data removed]",
      "text/plain": [
       "<Figure size 720x504 with 1 Axes>"
      ]
     },
     "metadata": {
      "needs_background": "light"
     },
     "output_type": "display_data"
    }
   ],
   "source": [
    "plt.figure(figsize=(10,7))\n",
    "sns.histplot(df['Distance_travelled'])\n",
    "plt.ticklabel_format(style='plain', axis='x')"
   ]
  },
  {
   "cell_type": "markdown",
   "metadata": {},
   "source": [
    "It is a right skewed distribution and mostly between 0 to 1,50,000"
   ]
  },
  {
   "cell_type": "markdown",
   "metadata": {},
   "source": [
    "Creatinga a new feature car_life from date of purchase"
   ]
  },
  {
   "cell_type": "code",
   "execution_count": 8,
   "metadata": {},
   "outputs": [
    {
     "data": {
      "text/plain": [
       "'2011'"
      ]
     },
     "execution_count": 8,
     "metadata": {},
     "output_type": "execute_result"
    }
   ],
   "source": [
    "df['Date_of_purchase'][0].split('-')[0]"
   ]
  },
  {
   "cell_type": "code",
   "execution_count": 9,
   "metadata": {},
   "outputs": [],
   "source": [
    "df['car_life']=2021-(df['Date_of_purchase'].apply(lambda x:int(x.split('-')[0])))"
   ]
  },
  {
   "cell_type": "code",
   "execution_count": 10,
   "metadata": {},
   "outputs": [
    {
     "data": {
      "text/plain": [
       "0       10\n",
       "1       10\n",
       "2        8\n",
       "3        8\n",
       "4        4\n",
       "        ..\n",
       "4742    10\n",
       "4743    12\n",
       "4744    15\n",
       "4745    10\n",
       "4746    13\n",
       "Name: car_life, Length: 4747, dtype: int64"
      ]
     },
     "execution_count": 10,
     "metadata": {},
     "output_type": "execute_result"
    }
   ],
   "source": [
    "df['car_life'] # getting life of car used in years"
   ]
  },
  {
   "cell_type": "code",
   "execution_count": 11,
   "metadata": {},
   "outputs": [
    {
     "data": {
      "text/plain": [
       "<AxesSubplot:xlabel='car_life', ylabel='Count'>"
      ]
     },
     "execution_count": 11,
     "metadata": {},
     "output_type": "execute_result"
    },
    {
     "data": {
      "image/png": "[encoded data removed]",
      "text/plain": [
       "<Figure size 720x360 with 1 Axes>"
      ]
     },
     "metadata": {
      "needs_background": "light"
     },
     "output_type": "display_data"
    }
   ],
   "source": [
    "plt.figure(figsize=(10,5))\n",
    "sns.histplot(df['car_life'])"
   ]
  },
  {
   "cell_type": "markdown",
   "metadata": {},
   "source": [
    "Dropping the date of purchase column"
   ]
  },
  {
   "cell_type": "code",
   "execution_count": 12,
   "metadata": {},
   "outputs": [],
   "source": [
    "df.drop('Date_of_purchase',axis=1,inplace=True)"
   ]
  },
  {
   "cell_type": "code",
   "execution_count": 13,
   "metadata": {},
   "outputs": [
    {
     "data": {
      "text/html": [
       "<div>\n",
       "<style scoped>\n",
       "    .dataframe tbody tr th:only-of-type {\n",
       "        vertical-align: middle;\n",
       "    }\n",
       "\n",
       "    .dataframe tbody tr th {\n",
       "        vertical-align: top;\n",
       "    }\n",
       "\n",
       "    .dataframe thead th {\n",
       "        text-align: right;\n",
       "    }\n",
       "</style>\n",
       "<table border=\"1\" class=\"dataframe\">\n",
       "  <thead>\n",
       "    <tr style=\"text-align: right;\">\n",
       "      <th></th>\n",
       "      <th>Price</th>\n",
       "      <th>Distance_travelled</th>\n",
       "      <th>Ownership</th>\n",
       "      <th>Fuel_type</th>\n",
       "      <th>Transmission</th>\n",
       "      <th>Insurance_type</th>\n",
       "      <th>City</th>\n",
       "      <th>Company_name</th>\n",
       "      <th>Model_name</th>\n",
       "      <th>car_life</th>\n",
       "    </tr>\n",
       "  </thead>\n",
       "  <tbody>\n",
       "    <tr>\n",
       "      <th>0</th>\n",
       "      <td>239899</td>\n",
       "      <td>12501</td>\n",
       "      <td>First</td>\n",
       "      <td>Petrol</td>\n",
       "      <td>MANUAL</td>\n",
       "      <td>Comprehensive</td>\n",
       "      <td>NewDelhi</td>\n",
       "      <td>Maruti</td>\n",
       "      <td>Wagon R 1.0 VXI</td>\n",
       "      <td>10</td>\n",
       "    </tr>\n",
       "    <tr>\n",
       "      <th>1</th>\n",
       "      <td>178099</td>\n",
       "      <td>34028</td>\n",
       "      <td>First</td>\n",
       "      <td>Petrol</td>\n",
       "      <td>MANUAL</td>\n",
       "      <td>Third Party</td>\n",
       "      <td>NewDelhi</td>\n",
       "      <td>Maruti</td>\n",
       "      <td>Alto K10 LXI</td>\n",
       "      <td>10</td>\n",
       "    </tr>\n",
       "    <tr>\n",
       "      <th>2</th>\n",
       "      <td>394199</td>\n",
       "      <td>24022</td>\n",
       "      <td>First</td>\n",
       "      <td>Diesel</td>\n",
       "      <td>MANUAL</td>\n",
       "      <td>Comprehensive</td>\n",
       "      <td>NewDelhi</td>\n",
       "      <td>Maruti</td>\n",
       "      <td>Swift ZDI</td>\n",
       "      <td>8</td>\n",
       "    </tr>\n",
       "    <tr>\n",
       "      <th>3</th>\n",
       "      <td>231299</td>\n",
       "      <td>35726</td>\n",
       "      <td>Second</td>\n",
       "      <td>Petrol</td>\n",
       "      <td>MANUAL</td>\n",
       "      <td>Third Party</td>\n",
       "      <td>NewDelhi</td>\n",
       "      <td>Hyundai</td>\n",
       "      <td>Santro Xing GL PLUS</td>\n",
       "      <td>8</td>\n",
       "    </tr>\n",
       "    <tr>\n",
       "      <th>4</th>\n",
       "      <td>452899</td>\n",
       "      <td>19994</td>\n",
       "      <td>Second</td>\n",
       "      <td>Petrol</td>\n",
       "      <td>MANUAL</td>\n",
       "      <td>Zero Depreciation</td>\n",
       "      <td>NewDelhi</td>\n",
       "      <td>Hyundai</td>\n",
       "      <td>Grand i10 Sportz(O) 1.2 MT</td>\n",
       "      <td>4</td>\n",
       "    </tr>\n",
       "  </tbody>\n",
       "</table>\n",
       "</div>"
      ],
      "text/plain": [
       "    Price  Distance_travelled Ownership Fuel_type Transmission  \\\n",
       "0  239899               12501     First    Petrol       MANUAL   \n",
       "1  178099               34028     First    Petrol       MANUAL   \n",
       "2  394199               24022     First    Diesel       MANUAL   \n",
       "3  231299               35726    Second    Petrol       MANUAL   \n",
       "4  452899               19994    Second    Petrol       MANUAL   \n",
       "\n",
       "      Insurance_type      City Company_name                  Model_name  \\\n",
       "0      Comprehensive  NewDelhi       Maruti             Wagon R 1.0 VXI   \n",
       "1        Third Party  NewDelhi       Maruti                Alto K10 LXI   \n",
       "2      Comprehensive  NewDelhi       Maruti                   Swift ZDI   \n",
       "3        Third Party  NewDelhi      Hyundai         Santro Xing GL PLUS   \n",
       "4  Zero Depreciation  NewDelhi      Hyundai  Grand i10 Sportz(O) 1.2 MT   \n",
       "\n",
       "   car_life  \n",
       "0        10  \n",
       "1        10  \n",
       "2         8  \n",
       "3         8  \n",
       "4         4  "
      ]
     },
     "execution_count": 13,
     "metadata": {},
     "output_type": "execute_result"
    }
   ],
   "source": [
    "df.head()"
   ]
  },
  {
   "cell_type": "code",
   "execution_count": 14,
   "metadata": {},
   "outputs": [],
   "source": [
    "distint_comp=df['Company_name'].unique()"
   ]
  },
  {
   "cell_type": "code",
   "execution_count": 19,
   "metadata": {},
   "outputs": [],
   "source": [
    "#sorted(df[df['Company_name']=='Maruti']['Model_name'].unique())"
   ]
  },
  {
   "cell_type": "code",
   "execution_count": 21,
   "metadata": {},
   "outputs": [
    {
     "data": {
      "text/plain": [
       "<AxesSubplot:xlabel='Ownership', ylabel='Count'>"
      ]
     },
     "execution_count": 21,
     "metadata": {},
     "output_type": "execute_result"
    },
    {
     "data": {
      "image/png": "[encoded data removed]",
      "text/plain": [
       "<Figure size 432x288 with 1 Axes>"
      ]
     },
     "metadata": {
      "needs_background": "light"
     },
     "output_type": "display_data"
    }
   ],
   "source": [
    "sns.histplot(df['Ownership'])"
   ]
  },
  {
   "cell_type": "code",
   "execution_count": 22,
   "metadata": {},
   "outputs": [
    {
     "data": {
      "text/plain": [
       "<AxesSubplot:xlabel='City', ylabel='Count'>"
      ]
     },
     "execution_count": 22,
     "metadata": {},
     "output_type": "execute_result"
    },
    {
     "data": {
      "image/png": "[encoded data removed]",
      "text/plain": [
       "<Figure size 720x360 with 1 Axes>"
      ]
     },
     "metadata": {
      "needs_background": "light"
     },
     "output_type": "display_data"
    }
   ],
   "source": [
    "plt.figure(figsize=(10,5))\n",
    "sns.histplot(df['City'])"
   ]
  },
  {
   "cell_type": "code",
   "execution_count": 23,
   "metadata": {},
   "outputs": [
    {
     "data": {
      "text/plain": [
       "<seaborn.axisgrid.PairGrid at 0x22bdf37bcc8>"
      ]
     },
     "execution_count": 23,
     "metadata": {},
     "output_type": "execute_result"
    },
    {
     "data": {
      "image/png": "[encoded data removed]",
      "text/plain": [
       "<Figure size 540x540 with 12 Axes>"
      ]
     },
     "metadata": {
      "needs_background": "light"
     },
     "output_type": "display_data"
    }
   ],
   "source": [
    "sns.pairplot(df)"
   ]
  },
  {
   "cell_type": "code",
   "execution_count": 24,
   "metadata": {},
   "outputs": [
    {
     "data": {
      "text/plain": [
       "<AxesSubplot:xlabel='Price', ylabel='City'>"
      ]
     },
     "execution_count": 24,
     "metadata": {},
     "output_type": "execute_result"
    },
    {
     "data": {
      "image/png": "[encoded data removed]",
      "text/plain": [
       "<Figure size 432x288 with 1 Axes>"
      ]
     },
     "metadata": {
      "needs_background": "light"
     },
     "output_type": "display_data"
    }
   ],
   "source": [
    "sns.barplot(x=df['Price'],y=df['City'])"
   ]
  },
  {
   "cell_type": "markdown",
   "metadata": {},
   "source": [
    "prices in all cities nearly similar but kolkata is least priced and ahmedabad is highest priced"
   ]
  },
  {
   "cell_type": "code",
   "execution_count": 25,
   "metadata": {},
   "outputs": [
    {
     "data": {
      "image/png": "[encoded data removed]",
      "text/plain": [
       "<Figure size 720x504 with 1 Axes>"
      ]
     },
     "metadata": {
      "needs_background": "light"
     },
     "output_type": "display_data"
    }
   ],
   "source": [
    "plt.figure(figsize=(10,7))\n",
    "sns.barplot(x=df['Price'],y=df['Company_name']);"
   ]
  },
  {
   "cell_type": "markdown",
   "metadata": {},
   "source": [
    "MG,KIA,Audi,Jeep,Mercedes are highly priced and  \n",
    "Chevrolet,Fiat,Datsun are low priced"
   ]
  },
  {
   "cell_type": "code",
   "execution_count": 26,
   "metadata": {},
   "outputs": [
    {
     "data": {
      "text/html": [
       "<div>\n",
       "<style scoped>\n",
       "    .dataframe tbody tr th:only-of-type {\n",
       "        vertical-align: middle;\n",
       "    }\n",
       "\n",
       "    .dataframe tbody tr th {\n",
       "        vertical-align: top;\n",
       "    }\n",
       "\n",
       "    .dataframe thead th {\n",
       "        text-align: right;\n",
       "    }\n",
       "</style>\n",
       "<table border=\"1\" class=\"dataframe\">\n",
       "  <thead>\n",
       "    <tr style=\"text-align: right;\">\n",
       "      <th></th>\n",
       "      <th>Price</th>\n",
       "      <th>Distance_travelled</th>\n",
       "      <th>car_life</th>\n",
       "    </tr>\n",
       "  </thead>\n",
       "  <tbody>\n",
       "    <tr>\n",
       "      <th>Price</th>\n",
       "      <td>1.000000</td>\n",
       "      <td>-0.124901</td>\n",
       "      <td>-0.538144</td>\n",
       "    </tr>\n",
       "    <tr>\n",
       "      <th>Distance_travelled</th>\n",
       "      <td>-0.124901</td>\n",
       "      <td>1.000000</td>\n",
       "      <td>0.431339</td>\n",
       "    </tr>\n",
       "    <tr>\n",
       "      <th>car_life</th>\n",
       "      <td>-0.538144</td>\n",
       "      <td>0.431339</td>\n",
       "      <td>1.000000</td>\n",
       "    </tr>\n",
       "  </tbody>\n",
       "</table>\n",
       "</div>"
      ],
      "text/plain": [
       "                       Price  Distance_travelled  car_life\n",
       "Price               1.000000           -0.124901 -0.538144\n",
       "Distance_travelled -0.124901            1.000000  0.431339\n",
       "car_life           -0.538144            0.431339  1.000000"
      ]
     },
     "execution_count": 26,
     "metadata": {},
     "output_type": "execute_result"
    }
   ],
   "source": [
    "# check the correlation between features\n",
    "df.corr()"
   ]
  },
  {
   "cell_type": "markdown",
   "metadata": {},
   "source": [
    "Distance travelled and car_life are negatively correlated with price because as distance travelled or used life of car increases its price depreciates"
   ]
  },
  {
   "cell_type": "markdown",
   "metadata": {},
   "source": [
    "#### check for outliers"
   ]
  },
  {
   "cell_type": "code",
   "execution_count": 88,
   "metadata": {},
   "outputs": [
    {
     "data": {
      "text/plain": [
       "109"
      ]
     },
     "execution_count": 88,
     "metadata": {},
     "output_type": "execute_result"
    }
   ],
   "source": [
    "sum(df['Model_name'].value_counts()>9)"
   ]
  },
  {
   "cell_type": "code",
   "execution_count": 60,
   "metadata": {},
   "outputs": [
    {
     "data": {
      "text/plain": [
       "9"
      ]
     },
     "execution_count": 60,
     "metadata": {},
     "output_type": "execute_result"
    }
   ],
   "source": [
    "sum(df['Model_name'].value_counts()==10)"
   ]
  },
  {
   "cell_type": "code",
   "execution_count": 58,
   "metadata": {},
   "outputs": [],
   "source": [
    "df['Model_name']=df['Model_name'].apply(lambda x : x.replace('PETROL',''))\n",
    "df['Model_name']=df['Model_name'].apply(lambda x : x.replace('DIESEL',''))\n",
    "df['Model_name']=df['Model_name'].apply(lambda x : x.replace('AT',''))"
   ]
  },
  {
   "cell_type": "code",
   "execution_count": 127,
   "metadata": {},
   "outputs": [],
   "source": [
    "data1=df.copy()\n",
    "data1['Model_name']=df['Model_name'].apply(lambda x:' '.join(x.split()[:3]))"
   ]
  },
  {
   "cell_type": "code",
   "execution_count": 128,
   "metadata": {},
   "outputs": [
    {
     "data": {
      "text/html": [
       "<div>\n",
       "<style scoped>\n",
       "    .dataframe tbody tr th:only-of-type {\n",
       "        vertical-align: middle;\n",
       "    }\n",
       "\n",
       "    .dataframe tbody tr th {\n",
       "        vertical-align: top;\n",
       "    }\n",
       "\n",
       "    .dataframe thead th {\n",
       "        text-align: right;\n",
       "    }\n",
       "</style>\n",
       "<table border=\"1\" class=\"dataframe\">\n",
       "  <thead>\n",
       "    <tr style=\"text-align: right;\">\n",
       "      <th></th>\n",
       "      <th>Price</th>\n",
       "      <th>Distance_travelled</th>\n",
       "      <th>Ownership</th>\n",
       "      <th>Fuel_type</th>\n",
       "      <th>Transmission</th>\n",
       "      <th>Insurance_type</th>\n",
       "      <th>City</th>\n",
       "      <th>Company_name</th>\n",
       "      <th>Model_name</th>\n",
       "      <th>car_life</th>\n",
       "    </tr>\n",
       "  </thead>\n",
       "  <tbody>\n",
       "    <tr>\n",
       "      <th>0</th>\n",
       "      <td>239899</td>\n",
       "      <td>12501</td>\n",
       "      <td>First</td>\n",
       "      <td>Petrol</td>\n",
       "      <td>MANUAL</td>\n",
       "      <td>Comprehensive</td>\n",
       "      <td>NewDelhi</td>\n",
       "      <td>Maruti</td>\n",
       "      <td>Wagon R 1.0</td>\n",
       "      <td>10</td>\n",
       "    </tr>\n",
       "    <tr>\n",
       "      <th>1</th>\n",
       "      <td>178099</td>\n",
       "      <td>34028</td>\n",
       "      <td>First</td>\n",
       "      <td>Petrol</td>\n",
       "      <td>MANUAL</td>\n",
       "      <td>Third Party</td>\n",
       "      <td>NewDelhi</td>\n",
       "      <td>Maruti</td>\n",
       "      <td>Alto K10 LXI</td>\n",
       "      <td>10</td>\n",
       "    </tr>\n",
       "    <tr>\n",
       "      <th>2</th>\n",
       "      <td>394199</td>\n",
       "      <td>24022</td>\n",
       "      <td>First</td>\n",
       "      <td>Diesel</td>\n",
       "      <td>MANUAL</td>\n",
       "      <td>Comprehensive</td>\n",
       "      <td>NewDelhi</td>\n",
       "      <td>Maruti</td>\n",
       "      <td>Swift ZDI</td>\n",
       "      <td>8</td>\n",
       "    </tr>\n",
       "    <tr>\n",
       "      <th>3</th>\n",
       "      <td>231299</td>\n",
       "      <td>35726</td>\n",
       "      <td>Second</td>\n",
       "      <td>Petrol</td>\n",
       "      <td>MANUAL</td>\n",
       "      <td>Third Party</td>\n",
       "      <td>NewDelhi</td>\n",
       "      <td>Hyundai</td>\n",
       "      <td>Santro Xing GL</td>\n",
       "      <td>8</td>\n",
       "    </tr>\n",
       "    <tr>\n",
       "      <th>4</th>\n",
       "      <td>452899</td>\n",
       "      <td>19994</td>\n",
       "      <td>Second</td>\n",
       "      <td>Petrol</td>\n",
       "      <td>MANUAL</td>\n",
       "      <td>Zero Depreciation</td>\n",
       "      <td>NewDelhi</td>\n",
       "      <td>Hyundai</td>\n",
       "      <td>Grand i10 Sportz(O)</td>\n",
       "      <td>4</td>\n",
       "    </tr>\n",
       "  </tbody>\n",
       "</table>\n",
       "</div>"
      ],
      "text/plain": [
       "    Price  Distance_travelled Ownership Fuel_type Transmission  \\\n",
       "0  239899               12501     First    Petrol       MANUAL   \n",
       "1  178099               34028     First    Petrol       MANUAL   \n",
       "2  394199               24022     First    Diesel       MANUAL   \n",
       "3  231299               35726    Second    Petrol       MANUAL   \n",
       "4  452899               19994    Second    Petrol       MANUAL   \n",
       "\n",
       "      Insurance_type      City Company_name           Model_name  car_life  \n",
       "0      Comprehensive  NewDelhi       Maruti          Wagon R 1.0        10  \n",
       "1        Third Party  NewDelhi       Maruti         Alto K10 LXI        10  \n",
       "2      Comprehensive  NewDelhi       Maruti            Swift ZDI         8  \n",
       "3        Third Party  NewDelhi      Hyundai       Santro Xing GL         8  \n",
       "4  Zero Depreciation  NewDelhi      Hyundai  Grand i10 Sportz(O)         4  "
      ]
     },
     "execution_count": 128,
     "metadata": {},
     "output_type": "execute_result"
    }
   ],
   "source": [
    "data1.head()"
   ]
  },
  {
   "cell_type": "code",
   "execution_count": 135,
   "metadata": {},
   "outputs": [],
   "source": [
    "# deleting model names with less than 10 in number to reduce noise in the data\n",
    "data1=data1.groupby('Model_name').filter(lambda x:len(x)>10)"
   ]
  },
  {
   "cell_type": "code",
   "execution_count": 136,
   "metadata": {},
   "outputs": [
    {
     "data": {
      "text/html": [
       "<div>\n",
       "<style scoped>\n",
       "    .dataframe tbody tr th:only-of-type {\n",
       "        vertical-align: middle;\n",
       "    }\n",
       "\n",
       "    .dataframe tbody tr th {\n",
       "        vertical-align: top;\n",
       "    }\n",
       "\n",
       "    .dataframe thead th {\n",
       "        text-align: right;\n",
       "    }\n",
       "</style>\n",
       "<table border=\"1\" class=\"dataframe\">\n",
       "  <thead>\n",
       "    <tr style=\"text-align: right;\">\n",
       "      <th></th>\n",
       "      <th>Price</th>\n",
       "      <th>Distance_travelled</th>\n",
       "      <th>Ownership</th>\n",
       "      <th>Fuel_type</th>\n",
       "      <th>Transmission</th>\n",
       "      <th>Insurance_type</th>\n",
       "      <th>City</th>\n",
       "      <th>Company_name</th>\n",
       "      <th>Model_name</th>\n",
       "      <th>car_life</th>\n",
       "    </tr>\n",
       "  </thead>\n",
       "  <tbody>\n",
       "    <tr>\n",
       "      <th>0</th>\n",
       "      <td>239899</td>\n",
       "      <td>12501</td>\n",
       "      <td>First</td>\n",
       "      <td>Petrol</td>\n",
       "      <td>MANUAL</td>\n",
       "      <td>Comprehensive</td>\n",
       "      <td>NewDelhi</td>\n",
       "      <td>Maruti</td>\n",
       "      <td>Wagon R 1.0</td>\n",
       "      <td>10</td>\n",
       "    </tr>\n",
       "    <tr>\n",
       "      <th>1</th>\n",
       "      <td>178099</td>\n",
       "      <td>34028</td>\n",
       "      <td>First</td>\n",
       "      <td>Petrol</td>\n",
       "      <td>MANUAL</td>\n",
       "      <td>Third Party</td>\n",
       "      <td>NewDelhi</td>\n",
       "      <td>Maruti</td>\n",
       "      <td>Alto K10 LXI</td>\n",
       "      <td>10</td>\n",
       "    </tr>\n",
       "    <tr>\n",
       "      <th>2</th>\n",
       "      <td>394199</td>\n",
       "      <td>24022</td>\n",
       "      <td>First</td>\n",
       "      <td>Diesel</td>\n",
       "      <td>MANUAL</td>\n",
       "      <td>Comprehensive</td>\n",
       "      <td>NewDelhi</td>\n",
       "      <td>Maruti</td>\n",
       "      <td>Swift ZDI</td>\n",
       "      <td>8</td>\n",
       "    </tr>\n",
       "    <tr>\n",
       "      <th>3</th>\n",
       "      <td>231299</td>\n",
       "      <td>35726</td>\n",
       "      <td>Second</td>\n",
       "      <td>Petrol</td>\n",
       "      <td>MANUAL</td>\n",
       "      <td>Third Party</td>\n",
       "      <td>NewDelhi</td>\n",
       "      <td>Hyundai</td>\n",
       "      <td>Santro Xing GL</td>\n",
       "      <td>8</td>\n",
       "    </tr>\n",
       "    <tr>\n",
       "      <th>6</th>\n",
       "      <td>533899</td>\n",
       "      <td>19330</td>\n",
       "      <td>Second</td>\n",
       "      <td>Petrol</td>\n",
       "      <td>MANUAL</td>\n",
       "      <td>Comprehensive</td>\n",
       "      <td>NewDelhi</td>\n",
       "      <td>Hyundai</td>\n",
       "      <td>Elite i20 SPORTZ</td>\n",
       "      <td>4</td>\n",
       "    </tr>\n",
       "  </tbody>\n",
       "</table>\n",
       "</div>"
      ],
      "text/plain": [
       "    Price  Distance_travelled Ownership Fuel_type Transmission Insurance_type  \\\n",
       "0  239899               12501     First    Petrol       MANUAL  Comprehensive   \n",
       "1  178099               34028     First    Petrol       MANUAL    Third Party   \n",
       "2  394199               24022     First    Diesel       MANUAL  Comprehensive   \n",
       "3  231299               35726    Second    Petrol       MANUAL    Third Party   \n",
       "6  533899               19330    Second    Petrol       MANUAL  Comprehensive   \n",
       "\n",
       "       City Company_name        Model_name  car_life  \n",
       "0  NewDelhi       Maruti       Wagon R 1.0        10  \n",
       "1  NewDelhi       Maruti      Alto K10 LXI        10  \n",
       "2  NewDelhi       Maruti         Swift ZDI         8  \n",
       "3  NewDelhi      Hyundai    Santro Xing GL         8  \n",
       "6  NewDelhi      Hyundai  Elite i20 SPORTZ         4  "
      ]
     },
     "execution_count": 136,
     "metadata": {},
     "output_type": "execute_result"
    }
   ],
   "source": [
    "data1.head()"
   ]
  },
  {
   "cell_type": "code",
   "execution_count": 138,
   "metadata": {},
   "outputs": [
    {
     "data": {
      "text/plain": [
       "<AxesSubplot:xlabel='Model_name', ylabel='Density'>"
      ]
     },
     "execution_count": 138,
     "metadata": {},
     "output_type": "execute_result"
    },
    {
     "data": {
      "image/png": "[encoded data removed]",
      "text/plain": [
       "<Figure size 432x288 with 1 Axes>"
      ]
     },
     "metadata": {
      "needs_background": "light"
     },
     "output_type": "display_data"
    }
   ],
   "source": [
    "sns.distplot(data1['Model_name'].value_counts())"
   ]
  },
  {
   "cell_type": "code",
   "execution_count": null,
   "metadata": {},
   "outputs": [],
   "source": []
  },
  {
   "cell_type": "markdown",
   "metadata": {},
   "source": [
    "### Converting Categorical to numerical"
   ]
  },
  {
   "cell_type": "markdown",
   "metadata": {},
   "source": [
    "we use label encoding for ownership as first is highly valued second is next and so on in an order."
   ]
  },
  {
   "cell_type": "code",
   "execution_count": 121,
   "metadata": {},
   "outputs": [],
   "source": [
    "#from sklearn.preprocessing import LabelEncoder"
   ]
  },
  {
   "cell_type": "code",
   "execution_count": 139,
   "metadata": {},
   "outputs": [],
   "source": [
    "d={'First':1,'Second':2,'Third':3,'Fourth':4}"
   ]
  },
  {
   "cell_type": "code",
   "execution_count": 140,
   "metadata": {},
   "outputs": [],
   "source": [
    "data1['Ownership']=data1['Ownership'].apply(lambda x: d[x] )"
   ]
  },
  {
   "cell_type": "markdown",
   "metadata": {},
   "source": [
    "Label encoding can be used for company name and model as they are in more number which can lead to dummy variable trap"
   ]
  },
  {
   "cell_type": "code",
   "execution_count": 141,
   "metadata": {},
   "outputs": [],
   "source": [
    "from sklearn.preprocessing import LabelEncoder"
   ]
  },
  {
   "cell_type": "code",
   "execution_count": 142,
   "metadata": {},
   "outputs": [],
   "source": [
    "l_encoder=LabelEncoder()"
   ]
  },
  {
   "cell_type": "code",
   "execution_count": 143,
   "metadata": {},
   "outputs": [],
   "source": [
    "data1['Company_name']=l_encoder.fit_transform(data1['Company_name'])"
   ]
  },
  {
   "cell_type": "code",
   "execution_count": 144,
   "metadata": {},
   "outputs": [],
   "source": [
    "data1['Model_name']=l_encoder.fit_transform(data1['Model_name'])"
   ]
  },
  {
   "cell_type": "code",
   "execution_count": 145,
   "metadata": {},
   "outputs": [
    {
     "data": {
      "text/html": [
       "<div>\n",
       "<style scoped>\n",
       "    .dataframe tbody tr th:only-of-type {\n",
       "        vertical-align: middle;\n",
       "    }\n",
       "\n",
       "    .dataframe tbody tr th {\n",
       "        vertical-align: top;\n",
       "    }\n",
       "\n",
       "    .dataframe thead th {\n",
       "        text-align: right;\n",
       "    }\n",
       "</style>\n",
       "<table border=\"1\" class=\"dataframe\">\n",
       "  <thead>\n",
       "    <tr style=\"text-align: right;\">\n",
       "      <th></th>\n",
       "      <th>Price</th>\n",
       "      <th>Distance_travelled</th>\n",
       "      <th>Ownership</th>\n",
       "      <th>Fuel_type</th>\n",
       "      <th>Transmission</th>\n",
       "      <th>Insurance_type</th>\n",
       "      <th>City</th>\n",
       "      <th>Company_name</th>\n",
       "      <th>Model_name</th>\n",
       "      <th>car_life</th>\n",
       "    </tr>\n",
       "  </thead>\n",
       "  <tbody>\n",
       "    <tr>\n",
       "      <th>0</th>\n",
       "      <td>239899</td>\n",
       "      <td>12501</td>\n",
       "      <td>1</td>\n",
       "      <td>Petrol</td>\n",
       "      <td>MANUAL</td>\n",
       "      <td>Comprehensive</td>\n",
       "      <td>NewDelhi</td>\n",
       "      <td>5</td>\n",
       "      <td>85</td>\n",
       "      <td>10</td>\n",
       "    </tr>\n",
       "    <tr>\n",
       "      <th>1</th>\n",
       "      <td>178099</td>\n",
       "      <td>34028</td>\n",
       "      <td>1</td>\n",
       "      <td>Petrol</td>\n",
       "      <td>MANUAL</td>\n",
       "      <td>Third Party</td>\n",
       "      <td>NewDelhi</td>\n",
       "      <td>5</td>\n",
       "      <td>4</td>\n",
       "      <td>10</td>\n",
       "    </tr>\n",
       "    <tr>\n",
       "      <th>2</th>\n",
       "      <td>394199</td>\n",
       "      <td>24022</td>\n",
       "      <td>1</td>\n",
       "      <td>Diesel</td>\n",
       "      <td>MANUAL</td>\n",
       "      <td>Comprehensive</td>\n",
       "      <td>NewDelhi</td>\n",
       "      <td>5</td>\n",
       "      <td>77</td>\n",
       "      <td>8</td>\n",
       "    </tr>\n",
       "    <tr>\n",
       "      <th>3</th>\n",
       "      <td>231299</td>\n",
       "      <td>35726</td>\n",
       "      <td>2</td>\n",
       "      <td>Petrol</td>\n",
       "      <td>MANUAL</td>\n",
       "      <td>Third Party</td>\n",
       "      <td>NewDelhi</td>\n",
       "      <td>3</td>\n",
       "      <td>67</td>\n",
       "      <td>8</td>\n",
       "    </tr>\n",
       "    <tr>\n",
       "      <th>6</th>\n",
       "      <td>533899</td>\n",
       "      <td>19330</td>\n",
       "      <td>2</td>\n",
       "      <td>Petrol</td>\n",
       "      <td>MANUAL</td>\n",
       "      <td>Comprehensive</td>\n",
       "      <td>NewDelhi</td>\n",
       "      <td>3</td>\n",
       "      <td>33</td>\n",
       "      <td>4</td>\n",
       "    </tr>\n",
       "  </tbody>\n",
       "</table>\n",
       "</div>"
      ],
      "text/plain": [
       "    Price  Distance_travelled  Ownership Fuel_type Transmission  \\\n",
       "0  239899               12501          1    Petrol       MANUAL   \n",
       "1  178099               34028          1    Petrol       MANUAL   \n",
       "2  394199               24022          1    Diesel       MANUAL   \n",
       "3  231299               35726          2    Petrol       MANUAL   \n",
       "6  533899               19330          2    Petrol       MANUAL   \n",
       "\n",
       "  Insurance_type      City  Company_name  Model_name  car_life  \n",
       "0  Comprehensive  NewDelhi             5          85        10  \n",
       "1    Third Party  NewDelhi             5           4        10  \n",
       "2  Comprehensive  NewDelhi             5          77         8  \n",
       "3    Third Party  NewDelhi             3          67         8  \n",
       "6  Comprehensive  NewDelhi             3          33         4  "
      ]
     },
     "execution_count": 145,
     "metadata": {},
     "output_type": "execute_result"
    }
   ],
   "source": [
    "data1.head()"
   ]
  },
  {
   "cell_type": "markdown",
   "metadata": {},
   "source": [
    "for other categorical variables we can use one hot encoding"
   ]
  },
  {
   "cell_type": "code",
   "execution_count": 146,
   "metadata": {},
   "outputs": [],
   "source": [
    "data1=pd.get_dummies(data1,columns=['Fuel_type','Transmission','Insurance_type','City'],drop_first=True)"
   ]
  },
  {
   "cell_type": "code",
   "execution_count": 147,
   "metadata": {},
   "outputs": [
    {
     "data": {
      "text/html": [
       "<div>\n",
       "<style scoped>\n",
       "    .dataframe tbody tr th:only-of-type {\n",
       "        vertical-align: middle;\n",
       "    }\n",
       "\n",
       "    .dataframe tbody tr th {\n",
       "        vertical-align: top;\n",
       "    }\n",
       "\n",
       "    .dataframe thead th {\n",
       "        text-align: right;\n",
       "    }\n",
       "</style>\n",
       "<table border=\"1\" class=\"dataframe\">\n",
       "  <thead>\n",
       "    <tr style=\"text-align: right;\">\n",
       "      <th></th>\n",
       "      <th>Price</th>\n",
       "      <th>Distance_travelled</th>\n",
       "      <th>Ownership</th>\n",
       "      <th>Company_name</th>\n",
       "      <th>Model_name</th>\n",
       "      <th>car_life</th>\n",
       "      <th>Fuel_type_Petrol</th>\n",
       "      <th>Fuel_type_Petrol + CNG</th>\n",
       "      <th>Fuel_type_Petrol + LPG</th>\n",
       "      <th>Transmission_MANUAL</th>\n",
       "      <th>Insurance_type_Insurance Expired</th>\n",
       "      <th>Insurance_type_Not Available</th>\n",
       "      <th>Insurance_type_Third Party</th>\n",
       "      <th>Insurance_type_Zero Depreciation</th>\n",
       "      <th>City_Bangalore</th>\n",
       "      <th>City_Chennai</th>\n",
       "      <th>City_Gurgaon</th>\n",
       "      <th>City_Hyderabad</th>\n",
       "      <th>City_Kolkata</th>\n",
       "      <th>City_Mumbai</th>\n",
       "      <th>City_NewDelhi</th>\n",
       "      <th>City_Noida</th>\n",
       "      <th>City_Pune</th>\n",
       "    </tr>\n",
       "  </thead>\n",
       "  <tbody>\n",
       "    <tr>\n",
       "      <th>0</th>\n",
       "      <td>239899</td>\n",
       "      <td>12501</td>\n",
       "      <td>1</td>\n",
       "      <td>5</td>\n",
       "      <td>85</td>\n",
       "      <td>10</td>\n",
       "      <td>1</td>\n",
       "      <td>0</td>\n",
       "      <td>0</td>\n",
       "      <td>1</td>\n",
       "      <td>0</td>\n",
       "      <td>0</td>\n",
       "      <td>0</td>\n",
       "      <td>0</td>\n",
       "      <td>0</td>\n",
       "      <td>0</td>\n",
       "      <td>0</td>\n",
       "      <td>0</td>\n",
       "      <td>0</td>\n",
       "      <td>0</td>\n",
       "      <td>1</td>\n",
       "      <td>0</td>\n",
       "      <td>0</td>\n",
       "    </tr>\n",
       "    <tr>\n",
       "      <th>1</th>\n",
       "      <td>178099</td>\n",
       "      <td>34028</td>\n",
       "      <td>1</td>\n",
       "      <td>5</td>\n",
       "      <td>4</td>\n",
       "      <td>10</td>\n",
       "      <td>1</td>\n",
       "      <td>0</td>\n",
       "      <td>0</td>\n",
       "      <td>1</td>\n",
       "      <td>0</td>\n",
       "      <td>0</td>\n",
       "      <td>1</td>\n",
       "      <td>0</td>\n",
       "      <td>0</td>\n",
       "      <td>0</td>\n",
       "      <td>0</td>\n",
       "      <td>0</td>\n",
       "      <td>0</td>\n",
       "      <td>0</td>\n",
       "      <td>1</td>\n",
       "      <td>0</td>\n",
       "      <td>0</td>\n",
       "    </tr>\n",
       "    <tr>\n",
       "      <th>2</th>\n",
       "      <td>394199</td>\n",
       "      <td>24022</td>\n",
       "      <td>1</td>\n",
       "      <td>5</td>\n",
       "      <td>77</td>\n",
       "      <td>8</td>\n",
       "      <td>0</td>\n",
       "      <td>0</td>\n",
       "      <td>0</td>\n",
       "      <td>1</td>\n",
       "      <td>0</td>\n",
       "      <td>0</td>\n",
       "      <td>0</td>\n",
       "      <td>0</td>\n",
       "      <td>0</td>\n",
       "      <td>0</td>\n",
       "      <td>0</td>\n",
       "      <td>0</td>\n",
       "      <td>0</td>\n",
       "      <td>0</td>\n",
       "      <td>1</td>\n",
       "      <td>0</td>\n",
       "      <td>0</td>\n",
       "    </tr>\n",
       "    <tr>\n",
       "      <th>3</th>\n",
       "      <td>231299</td>\n",
       "      <td>35726</td>\n",
       "      <td>2</td>\n",
       "      <td>3</td>\n",
       "      <td>67</td>\n",
       "      <td>8</td>\n",
       "      <td>1</td>\n",
       "      <td>0</td>\n",
       "      <td>0</td>\n",
       "      <td>1</td>\n",
       "      <td>0</td>\n",
       "      <td>0</td>\n",
       "      <td>1</td>\n",
       "      <td>0</td>\n",
       "      <td>0</td>\n",
       "      <td>0</td>\n",
       "      <td>0</td>\n",
       "      <td>0</td>\n",
       "      <td>0</td>\n",
       "      <td>0</td>\n",
       "      <td>1</td>\n",
       "      <td>0</td>\n",
       "      <td>0</td>\n",
       "    </tr>\n",
       "    <tr>\n",
       "      <th>6</th>\n",
       "      <td>533899</td>\n",
       "      <td>19330</td>\n",
       "      <td>2</td>\n",
       "      <td>3</td>\n",
       "      <td>33</td>\n",
       "      <td>4</td>\n",
       "      <td>1</td>\n",
       "      <td>0</td>\n",
       "      <td>0</td>\n",
       "      <td>1</td>\n",
       "      <td>0</td>\n",
       "      <td>0</td>\n",
       "      <td>0</td>\n",
       "      <td>0</td>\n",
       "      <td>0</td>\n",
       "      <td>0</td>\n",
       "      <td>0</td>\n",
       "      <td>0</td>\n",
       "      <td>0</td>\n",
       "      <td>0</td>\n",
       "      <td>1</td>\n",
       "      <td>0</td>\n",
       "      <td>0</td>\n",
       "    </tr>\n",
       "  </tbody>\n",
       "</table>\n",
       "</div>"
      ],
      "text/plain": [
       "    Price  Distance_travelled  Ownership  Company_name  Model_name  car_life  \\\n",
       "0  239899               12501          1             5          85        10   \n",
       "1  178099               34028          1             5           4        10   \n",
       "2  394199               24022          1             5          77         8   \n",
       "3  231299               35726          2             3          67         8   \n",
       "6  533899               19330          2             3          33         4   \n",
       "\n",
       "   Fuel_type_Petrol  Fuel_type_Petrol + CNG  Fuel_type_Petrol + LPG  \\\n",
       "0                 1                       0                       0   \n",
       "1                 1                       0                       0   \n",
       "2                 0                       0                       0   \n",
       "3                 1                       0                       0   \n",
       "6                 1                       0                       0   \n",
       "\n",
       "   Transmission_MANUAL  Insurance_type_Insurance Expired  \\\n",
       "0                    1                                 0   \n",
       "1                    1                                 0   \n",
       "2                    1                                 0   \n",
       "3                    1                                 0   \n",
       "6                    1                                 0   \n",
       "\n",
       "   Insurance_type_Not Available  Insurance_type_Third Party  \\\n",
       "0                             0                           0   \n",
       "1                             0                           1   \n",
       "2                             0                           0   \n",
       "3                             0                           1   \n",
       "6                             0                           0   \n",
       "\n",
       "   Insurance_type_Zero Depreciation  City_Bangalore  City_Chennai  \\\n",
       "0                                 0               0             0   \n",
       "1                                 0               0             0   \n",
       "2                                 0               0             0   \n",
       "3                                 0               0             0   \n",
       "6                                 0               0             0   \n",
       "\n",
       "   City_Gurgaon  City_Hyderabad  City_Kolkata  City_Mumbai  City_NewDelhi  \\\n",
       "0             0               0             0            0              1   \n",
       "1             0               0             0            0              1   \n",
       "2             0               0             0            0              1   \n",
       "3             0               0             0            0              1   \n",
       "6             0               0             0            0              1   \n",
       "\n",
       "   City_Noida  City_Pune  \n",
       "0           0          0  \n",
       "1           0          0  \n",
       "2           0          0  \n",
       "3           0          0  \n",
       "6           0          0  "
      ]
     },
     "execution_count": 147,
     "metadata": {},
     "output_type": "execute_result"
    }
   ],
   "source": [
    "pd.set_option('display.max_columns', 100)\n",
    "data1.head()"
   ]
  },
  {
   "cell_type": "code",
   "execution_count": 148,
   "metadata": {},
   "outputs": [],
   "source": [
    "data1.reset_index(drop=True,inplace=True)"
   ]
  },
  {
   "cell_type": "code",
   "execution_count": 149,
   "metadata": {},
   "outputs": [],
   "source": [
    "# saving the model for further usage\n",
    "data1.to_csv('final_data.csv',index=False)"
   ]
  },
  {
   "cell_type": "code",
   "execution_count": 1,
   "metadata": {},
   "outputs": [],
   "source": []
  },
  {
   "cell_type": "code",
   "execution_count": null,
   "metadata": {},
   "outputs": [],
   "source": []
  },
  {
   "cell_type": "code",
   "execution_count": null,
   "metadata": {},
   "outputs": [],
   "source": []
  }
 ],
 "metadata": {
  "kernelspec": {
   "display_name": "Python 3",
   "language": "python",
   "name": "python3"
  },
  "language_info": {
   "codemirror_mode": {
    "name": "ipython",
    "version": 3
   },
   "file_extension": ".py",
   "mimetype": "text/x-python",
   "name": "python",
   "nbconvert_exporter": "python",
   "pygments_lexer": "ipython3",
   "version": "3.7.10"
  }
 },
 "nbformat": 4,
 "nbformat_minor": 4
}
