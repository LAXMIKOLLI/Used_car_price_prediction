{
 "cells": [
  {
   "cell_type": "code",
   "execution_count": 2,
   "metadata": {},
   "outputs": [],
   "source": [
    "import mysql.connector as connection\n",
    "import pandas as pd"
   ]
  },
  {
   "cell_type": "code",
   "execution_count": 3,
   "metadata": {},
   "outputs": [],
   "source": [
    "import json\n",
    "file=open(\"C://Users//91964//Desktop//My_sql_details.json\")\n",
    "mysql=json.load(file)\n",
    "file.close()\n",
    "\n",
    "host=mysql['host']\n",
    "user=mysql['user']\n",
    "passwd=mysql['passwd']"
   ]
  },
  {
   "cell_type": "code",
   "execution_count": 4,
   "metadata": {},
   "outputs": [],
   "source": [
    "# fetching data from database \n",
    "try:\n",
    "    my_db=connection.connect(host=host,user=user,passwd=passwd,\n",
    "                             database='Used_cars',use_pure=True)\n",
    "    \n",
    "    query=\"SELECT * FROM car_details;\"\n",
    "    \n",
    "    cursor=my_db.cursor()\n",
    "    \n",
    "    cursor.execute(query)\n",
    "    table=cursor.fetchall()\n",
    "    my_db.close()\n",
    "    \n",
    "except Exception as e:\n",
    "    print(\"Data cannot be fetched from database\", str(e))"
   ]
  },
  {
   "cell_type": "code",
   "execution_count": 5,
   "metadata": {},
   "outputs": [],
   "source": [
    "# converting the data into Dataframe to clean the data using pandas\n",
    "columns=['Name','Price','Distance_travelled','Date_of_purchase','Ownership',\n",
    "         'Fuel_type','Transmission','RTO','Insurance_type','City']\n",
    "df=pd.DataFrame(table,columns=columns)"
   ]
  },
  {
   "cell_type": "code",
   "execution_count": 6,
   "metadata": {},
   "outputs": [
    {
     "data": {
      "text/html": [
       "<div>\n",
       "<style scoped>\n",
       "    .dataframe tbody tr th:only-of-type {\n",
       "        vertical-align: middle;\n",
       "    }\n",
       "\n",
       "    .dataframe tbody tr th {\n",
       "        vertical-align: top;\n",
       "    }\n",
       "\n",
       "    .dataframe thead th {\n",
       "        text-align: right;\n",
       "    }\n",
       "</style>\n",
       "<table border=\"1\" class=\"dataframe\">\n",
       "  <thead>\n",
       "    <tr style=\"text-align: right;\">\n",
       "      <th></th>\n",
       "      <th>Name</th>\n",
       "      <th>Price</th>\n",
       "      <th>Distance_travelled</th>\n",
       "      <th>Date_of_purchase</th>\n",
       "      <th>Ownership</th>\n",
       "      <th>Fuel_type</th>\n",
       "      <th>Transmission</th>\n",
       "      <th>RTO</th>\n",
       "      <th>Insurance_type</th>\n",
       "      <th>City</th>\n",
       "    </tr>\n",
       "  </thead>\n",
       "  <tbody>\n",
       "    <tr>\n",
       "      <th>0</th>\n",
       "      <td>Maruti Wagon R 1.0 VXI</td>\n",
       "      <td>239899</td>\n",
       "      <td>12501</td>\n",
       "      <td>March 2011</td>\n",
       "      <td>First</td>\n",
       "      <td>Petrol</td>\n",
       "      <td>MANUAL</td>\n",
       "      <td>RTODL3C</td>\n",
       "      <td>Comp</td>\n",
       "      <td>NewDelhi</td>\n",
       "    </tr>\n",
       "    <tr>\n",
       "      <th>1</th>\n",
       "      <td>Maruti Alto K10 LXI</td>\n",
       "      <td>178099</td>\n",
       "      <td>34028</td>\n",
       "      <td>July 2011</td>\n",
       "      <td>First</td>\n",
       "      <td>Petrol</td>\n",
       "      <td>MANUAL</td>\n",
       "      <td>RTODL9C</td>\n",
       "      <td>Third Party</td>\n",
       "      <td>NewDelhi</td>\n",
       "    </tr>\n",
       "    <tr>\n",
       "      <th>2</th>\n",
       "      <td>Maruti Swift ZDI</td>\n",
       "      <td>394199</td>\n",
       "      <td>24022</td>\n",
       "      <td>May 2013</td>\n",
       "      <td>First</td>\n",
       "      <td>Diesel</td>\n",
       "      <td>MANUAL</td>\n",
       "      <td>RTODL3C</td>\n",
       "      <td>Comp</td>\n",
       "      <td>NewDelhi</td>\n",
       "    </tr>\n",
       "    <tr>\n",
       "      <th>3</th>\n",
       "      <td>Hyundai Santro Xing GL PLUS</td>\n",
       "      <td>231299</td>\n",
       "      <td>35726</td>\n",
       "      <td>November 2013</td>\n",
       "      <td>Second</td>\n",
       "      <td>Petrol</td>\n",
       "      <td>MANUAL</td>\n",
       "      <td>RTODL9C</td>\n",
       "      <td>Third_party</td>\n",
       "      <td>NewDelhi</td>\n",
       "    </tr>\n",
       "    <tr>\n",
       "      <th>4</th>\n",
       "      <td>Hyundai Grand i10 Sportz(O) 1.2 MT</td>\n",
       "      <td>452899</td>\n",
       "      <td>19994</td>\n",
       "      <td>November 2017</td>\n",
       "      <td>Second</td>\n",
       "      <td>Petrol</td>\n",
       "      <td>MANUAL</td>\n",
       "      <td>RTODL1C</td>\n",
       "      <td>Zero_Dep</td>\n",
       "      <td>NewDelhi</td>\n",
       "    </tr>\n",
       "  </tbody>\n",
       "</table>\n",
       "</div>"
      ],
      "text/plain": [
       "                                 Name   Price Distance_travelled  \\\n",
       "0              Maruti Wagon R 1.0 VXI  239899              12501   \n",
       "1                 Maruti Alto K10 LXI  178099              34028   \n",
       "2                    Maruti Swift ZDI  394199              24022   \n",
       "3         Hyundai Santro Xing GL PLUS  231299              35726   \n",
       "4  Hyundai Grand i10 Sportz(O) 1.2 MT  452899              19994   \n",
       "\n",
       "  Date_of_purchase Ownership Fuel_type Transmission      RTO Insurance_type  \\\n",
       "0       March 2011     First    Petrol       MANUAL  RTODL3C           Comp   \n",
       "1        July 2011     First    Petrol       MANUAL  RTODL9C    Third Party   \n",
       "2         May 2013     First    Diesel       MANUAL  RTODL3C           Comp   \n",
       "3    November 2013    Second    Petrol       MANUAL  RTODL9C    Third_party   \n",
       "4    November 2017    Second    Petrol       MANUAL  RTODL1C       Zero_Dep   \n",
       "\n",
       "       City  \n",
       "0  NewDelhi  \n",
       "1  NewDelhi  \n",
       "2  NewDelhi  \n",
       "3  NewDelhi  \n",
       "4  NewDelhi  "
      ]
     },
     "execution_count": 6,
     "metadata": {},
     "output_type": "execute_result"
    }
   ],
   "source": [
    "df.head()"
   ]
  },
  {
   "cell_type": "code",
   "execution_count": 7,
   "metadata": {},
   "outputs": [],
   "source": [
    "#RTO column is not needed drop RTO column"
   ]
  },
  {
   "cell_type": "code",
   "execution_count": 8,
   "metadata": {},
   "outputs": [],
   "source": [
    "df.drop('RTO',axis=1,inplace=True)"
   ]
  },
  {
   "cell_type": "code",
   "execution_count": 9,
   "metadata": {},
   "outputs": [
    {
     "data": {
      "text/html": [
       "<div>\n",
       "<style scoped>\n",
       "    .dataframe tbody tr th:only-of-type {\n",
       "        vertical-align: middle;\n",
       "    }\n",
       "\n",
       "    .dataframe tbody tr th {\n",
       "        vertical-align: top;\n",
       "    }\n",
       "\n",
       "    .dataframe thead th {\n",
       "        text-align: right;\n",
       "    }\n",
       "</style>\n",
       "<table border=\"1\" class=\"dataframe\">\n",
       "  <thead>\n",
       "    <tr style=\"text-align: right;\">\n",
       "      <th></th>\n",
       "      <th>Name</th>\n",
       "      <th>Price</th>\n",
       "      <th>Distance_travelled</th>\n",
       "      <th>Date_of_purchase</th>\n",
       "      <th>Ownership</th>\n",
       "      <th>Fuel_type</th>\n",
       "      <th>Transmission</th>\n",
       "      <th>Insurance_type</th>\n",
       "      <th>City</th>\n",
       "    </tr>\n",
       "  </thead>\n",
       "  <tbody>\n",
       "    <tr>\n",
       "      <th>0</th>\n",
       "      <td>Maruti Wagon R 1.0 VXI</td>\n",
       "      <td>239899</td>\n",
       "      <td>12501</td>\n",
       "      <td>March 2011</td>\n",
       "      <td>First</td>\n",
       "      <td>Petrol</td>\n",
       "      <td>MANUAL</td>\n",
       "      <td>Comp</td>\n",
       "      <td>NewDelhi</td>\n",
       "    </tr>\n",
       "    <tr>\n",
       "      <th>1</th>\n",
       "      <td>Maruti Alto K10 LXI</td>\n",
       "      <td>178099</td>\n",
       "      <td>34028</td>\n",
       "      <td>July 2011</td>\n",
       "      <td>First</td>\n",
       "      <td>Petrol</td>\n",
       "      <td>MANUAL</td>\n",
       "      <td>Third Party</td>\n",
       "      <td>NewDelhi</td>\n",
       "    </tr>\n",
       "    <tr>\n",
       "      <th>2</th>\n",
       "      <td>Maruti Swift ZDI</td>\n",
       "      <td>394199</td>\n",
       "      <td>24022</td>\n",
       "      <td>May 2013</td>\n",
       "      <td>First</td>\n",
       "      <td>Diesel</td>\n",
       "      <td>MANUAL</td>\n",
       "      <td>Comp</td>\n",
       "      <td>NewDelhi</td>\n",
       "    </tr>\n",
       "    <tr>\n",
       "      <th>3</th>\n",
       "      <td>Hyundai Santro Xing GL PLUS</td>\n",
       "      <td>231299</td>\n",
       "      <td>35726</td>\n",
       "      <td>November 2013</td>\n",
       "      <td>Second</td>\n",
       "      <td>Petrol</td>\n",
       "      <td>MANUAL</td>\n",
       "      <td>Third_party</td>\n",
       "      <td>NewDelhi</td>\n",
       "    </tr>\n",
       "    <tr>\n",
       "      <th>4</th>\n",
       "      <td>Hyundai Grand i10 Sportz(O) 1.2 MT</td>\n",
       "      <td>452899</td>\n",
       "      <td>19994</td>\n",
       "      <td>November 2017</td>\n",
       "      <td>Second</td>\n",
       "      <td>Petrol</td>\n",
       "      <td>MANUAL</td>\n",
       "      <td>Zero_Dep</td>\n",
       "      <td>NewDelhi</td>\n",
       "    </tr>\n",
       "  </tbody>\n",
       "</table>\n",
       "</div>"
      ],
      "text/plain": [
       "                                 Name   Price Distance_travelled  \\\n",
       "0              Maruti Wagon R 1.0 VXI  239899              12501   \n",
       "1                 Maruti Alto K10 LXI  178099              34028   \n",
       "2                    Maruti Swift ZDI  394199              24022   \n",
       "3         Hyundai Santro Xing GL PLUS  231299              35726   \n",
       "4  Hyundai Grand i10 Sportz(O) 1.2 MT  452899              19994   \n",
       "\n",
       "  Date_of_purchase Ownership Fuel_type Transmission Insurance_type      City  \n",
       "0       March 2011     First    Petrol       MANUAL           Comp  NewDelhi  \n",
       "1        July 2011     First    Petrol       MANUAL    Third Party  NewDelhi  \n",
       "2         May 2013     First    Diesel       MANUAL           Comp  NewDelhi  \n",
       "3    November 2013    Second    Petrol       MANUAL    Third_party  NewDelhi  \n",
       "4    November 2017    Second    Petrol       MANUAL       Zero_Dep  NewDelhi  "
      ]
     },
     "execution_count": 9,
     "metadata": {},
     "output_type": "execute_result"
    }
   ],
   "source": [
    "df.head()"
   ]
  },
  {
   "cell_type": "code",
   "execution_count": 10,
   "metadata": {},
   "outputs": [
    {
     "name": "stdout",
     "output_type": "stream",
     "text": [
      "<class 'pandas.core.frame.DataFrame'>\n",
      "RangeIndex: 4776 entries, 0 to 4775\n",
      "Data columns (total 9 columns):\n",
      " #   Column              Non-Null Count  Dtype \n",
      "---  ------              --------------  ----- \n",
      " 0   Name                4776 non-null   object\n",
      " 1   Price               4776 non-null   object\n",
      " 2   Distance_travelled  4776 non-null   object\n",
      " 3   Date_of_purchase    4776 non-null   object\n",
      " 4   Ownership           4776 non-null   object\n",
      " 5   Fuel_type           4776 non-null   object\n",
      " 6   Transmission        4776 non-null   object\n",
      " 7   Insurance_type      4776 non-null   object\n",
      " 8   City                4776 non-null   object\n",
      "dtypes: object(9)\n",
      "memory usage: 335.9+ KB\n"
     ]
    }
   ],
   "source": [
    "# checking the features of dataframe.\n",
    "df.info()"
   ]
  },
  {
   "cell_type": "code",
   "execution_count": 11,
   "metadata": {},
   "outputs": [
    {
     "data": {
      "text/html": [
       "<div>\n",
       "<style scoped>\n",
       "    .dataframe tbody tr th:only-of-type {\n",
       "        vertical-align: middle;\n",
       "    }\n",
       "\n",
       "    .dataframe tbody tr th {\n",
       "        vertical-align: top;\n",
       "    }\n",
       "\n",
       "    .dataframe thead th {\n",
       "        text-align: right;\n",
       "    }\n",
       "</style>\n",
       "<table border=\"1\" class=\"dataframe\">\n",
       "  <thead>\n",
       "    <tr style=\"text-align: right;\">\n",
       "      <th></th>\n",
       "      <th>Name</th>\n",
       "      <th>Price</th>\n",
       "      <th>Distance_travelled</th>\n",
       "      <th>Date_of_purchase</th>\n",
       "      <th>Ownership</th>\n",
       "      <th>Fuel_type</th>\n",
       "      <th>Transmission</th>\n",
       "      <th>Insurance_type</th>\n",
       "      <th>City</th>\n",
       "    </tr>\n",
       "  </thead>\n",
       "  <tbody>\n",
       "    <tr>\n",
       "      <th>360</th>\n",
       "      <td>Toyota Etios Liva GD</td>\n",
       "      <td>259999</td>\n",
       "      <td>160408</td>\n",
       "      <td>May 2012</td>\n",
       "      <td>First</td>\n",
       "      <td>Diesel</td>\n",
       "      <td>MANUAL</td>\n",
       "      <td>Comp</td>\n",
       "      <td>NewDelhi</td>\n",
       "    </tr>\n",
       "    <tr>\n",
       "      <th>740</th>\n",
       "      <td>Hyundai Elite i20 ASTA 1.2</td>\n",
       "      <td>525499</td>\n",
       "      <td>45517</td>\n",
       "      <td>April 2017</td>\n",
       "      <td>First</td>\n",
       "      <td>Petrol</td>\n",
       "      <td>MANUAL</td>\n",
       "      <td>Zero_Dep</td>\n",
       "      <td>NewDelhi</td>\n",
       "    </tr>\n",
       "    <tr>\n",
       "      <th>800</th>\n",
       "      <td>Volkswagen Vento HIGHLINE PETROL</td>\n",
       "      <td>237899</td>\n",
       "      <td>162665</td>\n",
       "      <td>March 2011</td>\n",
       "      <td>Second</td>\n",
       "      <td>Petrol</td>\n",
       "      <td>MANUAL</td>\n",
       "      <td>Comp</td>\n",
       "      <td>NewDelhi</td>\n",
       "    </tr>\n",
       "    <tr>\n",
       "      <th>860</th>\n",
       "      <td>Maruti Swift LXI 1.3</td>\n",
       "      <td>70000</td>\n",
       "      <td>80391</td>\n",
       "      <td>March 2006</td>\n",
       "      <td>Second</td>\n",
       "      <td>Petrol</td>\n",
       "      <td>MANUAL</td>\n",
       "      <td>Third Party</td>\n",
       "      <td>NewDelhi</td>\n",
       "    </tr>\n",
       "    <tr>\n",
       "      <th>900</th>\n",
       "      <td>Chevrolet Enjoy 1.3 LT 7 STR</td>\n",
       "      <td>215000</td>\n",
       "      <td>46576</td>\n",
       "      <td>May 2013</td>\n",
       "      <td>First</td>\n",
       "      <td>Diesel</td>\n",
       "      <td>MANUAL</td>\n",
       "      <td>Comprehensive</td>\n",
       "      <td>NewDelhi</td>\n",
       "    </tr>\n",
       "    <tr>\n",
       "      <th>980</th>\n",
       "      <td>Renault Duster RXZ DIESEL 110</td>\n",
       "      <td>450000</td>\n",
       "      <td>74195</td>\n",
       "      <td>January 2013</td>\n",
       "      <td>First</td>\n",
       "      <td>Diesel</td>\n",
       "      <td>MANUAL</td>\n",
       "      <td>Comprehensive</td>\n",
       "      <td>NewDelhi</td>\n",
       "    </tr>\n",
       "    <tr>\n",
       "      <th>1770</th>\n",
       "      <td>Maruti Swift Dzire VDI BS IV</td>\n",
       "      <td>415599</td>\n",
       "      <td>133678</td>\n",
       "      <td>January 2012</td>\n",
       "      <td>First</td>\n",
       "      <td>Diesel</td>\n",
       "      <td>MANUAL</td>\n",
       "      <td>Third_party</td>\n",
       "      <td>Mumbai</td>\n",
       "    </tr>\n",
       "  </tbody>\n",
       "</table>\n",
       "</div>"
      ],
      "text/plain": [
       "                                  Name   Price Distance_travelled  \\\n",
       "360               Toyota Etios Liva GD  259999             160408   \n",
       "740         Hyundai Elite i20 ASTA 1.2  525499              45517   \n",
       "800   Volkswagen Vento HIGHLINE PETROL  237899             162665   \n",
       "860               Maruti Swift LXI 1.3   70000              80391   \n",
       "900       Chevrolet Enjoy 1.3 LT 7 STR  215000              46576   \n",
       "980      Renault Duster RXZ DIESEL 110  450000              74195   \n",
       "1770      Maruti Swift Dzire VDI BS IV  415599             133678   \n",
       "\n",
       "     Date_of_purchase Ownership Fuel_type Transmission Insurance_type  \\\n",
       "360          May 2012     First    Diesel       MANUAL           Comp   \n",
       "740        April 2017     First    Petrol       MANUAL       Zero_Dep   \n",
       "800        March 2011    Second    Petrol       MANUAL           Comp   \n",
       "860        March 2006    Second    Petrol       MANUAL    Third Party   \n",
       "900          May 2013     First    Diesel       MANUAL  Comprehensive   \n",
       "980      January 2013     First    Diesel       MANUAL  Comprehensive   \n",
       "1770     January 2012     First    Diesel       MANUAL    Third_party   \n",
       "\n",
       "          City  \n",
       "360   NewDelhi  \n",
       "740   NewDelhi  \n",
       "800   NewDelhi  \n",
       "860   NewDelhi  \n",
       "900   NewDelhi  \n",
       "980   NewDelhi  \n",
       "1770    Mumbai  "
      ]
     },
     "execution_count": 11,
     "metadata": {},
     "output_type": "execute_result"
    }
   ],
   "source": [
    "df[df.duplicated()]"
   ]
  },
  {
   "cell_type": "code",
   "execution_count": 12,
   "metadata": {},
   "outputs": [],
   "source": [
    "df.drop_duplicates(inplace=True)"
   ]
  },
  {
   "cell_type": "markdown",
   "metadata": {},
   "source": [
    "Name column can be split into two columns for company name and model name."
   ]
  },
  {
   "cell_type": "code",
   "execution_count": 13,
   "metadata": {},
   "outputs": [],
   "source": [
    "df['Company_name']=df['Name'].apply(lambda x: x.split()[0] )"
   ]
  },
  {
   "cell_type": "code",
   "execution_count": 14,
   "metadata": {},
   "outputs": [
    {
     "data": {
      "text/plain": [
       "Maruti        2203\n",
       "Hyundai       1109\n",
       "Honda          351\n",
       "Toyota         254\n",
       "Volkswagen     144\n",
       "Mahindra       144\n",
       "Ford           122\n",
       "Renault        121\n",
       "Tata            81\n",
       "Skoda           35\n",
       "Chevrolet       33\n",
       "Mercedes        32\n",
       "Nissan          31\n",
       "BMW             20\n",
       "Audi            19\n",
       "Datsun          17\n",
       "KIA             12\n",
       "MG              12\n",
       "Jeep             8\n",
       "Fiat             8\n",
       "Ssangyong        4\n",
       "Mitsubishi       3\n",
       "Jaguar           2\n",
       "Volvo            2\n",
       "Name             1\n",
       "Opel             1\n",
       "Name: Company_name, dtype: int64"
      ]
     },
     "execution_count": 14,
     "metadata": {},
     "output_type": "execute_result"
    }
   ],
   "source": [
    "df['Company_name'].value_counts()"
   ]
  },
  {
   "cell_type": "markdown",
   "metadata": {},
   "source": [
    "Remove company names with less than 5 cars."
   ]
  },
  {
   "cell_type": "code",
   "execution_count": 60,
   "metadata": {},
   "outputs": [],
   "source": [
    "ind=df[(df['Company_name']=='Ssangyong')|(df['Company_name']=='Mitsubishi')|(df['Company_name']=='Jaguar')].index\n",
    "df.drop(ind,inplace=True)"
   ]
  },
  {
   "cell_type": "code",
   "execution_count": 61,
   "metadata": {},
   "outputs": [],
   "source": [
    "ind=df[(df['Company_name']=='Volvo')|(df['Company_name']=='Name')|(df['Company_name']=='Opel')].index\n",
    "df.drop(ind,inplace=True)"
   ]
  },
  {
   "cell_type": "code",
   "execution_count": 15,
   "metadata": {},
   "outputs": [],
   "source": [
    "df['Model_name']=df['Name'].apply(lambda x: ' '.join(x.split()[1:]))"
   ]
  },
  {
   "cell_type": "code",
   "execution_count": 64,
   "metadata": {},
   "outputs": [
    {
     "data": {
      "text/plain": [
       "Alto 800 LXI               135\n",
       "Wagon R 1.0 VXI            134\n",
       "Swift VDI                  114\n",
       "Alto K10 VXI               108\n",
       "Swift VXI                  104\n",
       "                          ... \n",
       "Spark E 1.0                  1\n",
       "Ertiga ZXI SMART HYBRID      1\n",
       "ALTROZ XT 1.2                1\n",
       "Xcent BASE 1.1 CRDI          1\n",
       "Harrier XZA PLUS             1\n",
       "Name: Model_name, Length: 946, dtype: int64"
      ]
     },
     "execution_count": 64,
     "metadata": {},
     "output_type": "execute_result"
    }
   ],
   "source": [
    "df['Model_name'].value_counts()"
   ]
  },
  {
   "cell_type": "markdown",
   "metadata": {},
   "source": [
    "In price column there categorical 'price' and value of '0' which shoould be removed"
   ]
  },
  {
   "cell_type": "code",
   "execution_count": 17,
   "metadata": {},
   "outputs": [],
   "source": [
    "i=df[df['Price']=='Price'].index"
   ]
  },
  {
   "cell_type": "code",
   "execution_count": 18,
   "metadata": {},
   "outputs": [],
   "source": [
    "df.drop(i,inplace=True)"
   ]
  },
  {
   "cell_type": "code",
   "execution_count": 19,
   "metadata": {},
   "outputs": [],
   "source": [
    "i=df[df['Price']=='0'].index"
   ]
  },
  {
   "cell_type": "code",
   "execution_count": 20,
   "metadata": {},
   "outputs": [],
   "source": [
    "df.drop(i,inplace=True)"
   ]
  },
  {
   "cell_type": "code",
   "execution_count": 21,
   "metadata": {},
   "outputs": [
    {
     "data": {
      "text/html": [
       "<div>\n",
       "<style scoped>\n",
       "    .dataframe tbody tr th:only-of-type {\n",
       "        vertical-align: middle;\n",
       "    }\n",
       "\n",
       "    .dataframe tbody tr th {\n",
       "        vertical-align: top;\n",
       "    }\n",
       "\n",
       "    .dataframe thead th {\n",
       "        text-align: right;\n",
       "    }\n",
       "</style>\n",
       "<table border=\"1\" class=\"dataframe\">\n",
       "  <thead>\n",
       "    <tr style=\"text-align: right;\">\n",
       "      <th></th>\n",
       "      <th>Name</th>\n",
       "      <th>Price</th>\n",
       "      <th>Distance_travelled</th>\n",
       "      <th>Date_of_purchase</th>\n",
       "      <th>Ownership</th>\n",
       "      <th>Fuel_type</th>\n",
       "      <th>Transmission</th>\n",
       "      <th>Insurance_type</th>\n",
       "      <th>City</th>\n",
       "      <th>Company_name</th>\n",
       "      <th>Model_name</th>\n",
       "    </tr>\n",
       "  </thead>\n",
       "  <tbody>\n",
       "  </tbody>\n",
       "</table>\n",
       "</div>"
      ],
      "text/plain": [
       "Empty DataFrame\n",
       "Columns: [Name, Price, Distance_travelled, Date_of_purchase, Ownership, Fuel_type, Transmission, Insurance_type, City, Company_name, Model_name]\n",
       "Index: []"
      ]
     },
     "execution_count": 21,
     "metadata": {},
     "output_type": "execute_result"
    }
   ],
   "source": [
    "df[df['Price']==0]"
   ]
  },
  {
   "cell_type": "code",
   "execution_count": 22,
   "metadata": {},
   "outputs": [
    {
     "data": {
      "text/html": [
       "<div>\n",
       "<style scoped>\n",
       "    .dataframe tbody tr th:only-of-type {\n",
       "        vertical-align: middle;\n",
       "    }\n",
       "\n",
       "    .dataframe tbody tr th {\n",
       "        vertical-align: top;\n",
       "    }\n",
       "\n",
       "    .dataframe thead th {\n",
       "        text-align: right;\n",
       "    }\n",
       "</style>\n",
       "<table border=\"1\" class=\"dataframe\">\n",
       "  <thead>\n",
       "    <tr style=\"text-align: right;\">\n",
       "      <th></th>\n",
       "      <th>Name</th>\n",
       "      <th>Price</th>\n",
       "      <th>Distance_travelled</th>\n",
       "      <th>Date_of_purchase</th>\n",
       "      <th>Ownership</th>\n",
       "      <th>Fuel_type</th>\n",
       "      <th>Transmission</th>\n",
       "      <th>Insurance_type</th>\n",
       "      <th>City</th>\n",
       "      <th>Company_name</th>\n",
       "      <th>Model_name</th>\n",
       "    </tr>\n",
       "  </thead>\n",
       "  <tbody>\n",
       "  </tbody>\n",
       "</table>\n",
       "</div>"
      ],
      "text/plain": [
       "Empty DataFrame\n",
       "Columns: [Name, Price, Distance_travelled, Date_of_purchase, Ownership, Fuel_type, Transmission, Insurance_type, City, Company_name, Model_name]\n",
       "Index: []"
      ]
     },
     "execution_count": 22,
     "metadata": {},
     "output_type": "execute_result"
    }
   ],
   "source": [
    "df[df['Price']=='Price']"
   ]
  },
  {
   "cell_type": "markdown",
   "metadata": {},
   "source": [
    "Converting numerical columns to int type and date column to datetime"
   ]
  },
  {
   "cell_type": "code",
   "execution_count": 23,
   "metadata": {},
   "outputs": [],
   "source": [
    "df['Price']=df['Price'].astype('int64')"
   ]
  },
  {
   "cell_type": "code",
   "execution_count": 24,
   "metadata": {},
   "outputs": [],
   "source": [
    "df['Distance_travelled']=df['Distance_travelled'].astype('int64')"
   ]
  },
  {
   "cell_type": "code",
   "execution_count": 25,
   "metadata": {},
   "outputs": [],
   "source": [
    "df['Date_of_purchase']=df['Date_of_purchase'].astype('datetime64')"
   ]
  },
  {
   "cell_type": "code",
   "execution_count": 26,
   "metadata": {},
   "outputs": [
    {
     "data": {
      "text/plain": [
       "First     3432\n",
       "Second    1131\n",
       "Third      175\n",
       "Fourth      24\n",
       "Fifth        2\n",
       "Sixth        1\n",
       "Name: Ownership, dtype: int64"
      ]
     },
     "execution_count": 26,
     "metadata": {},
     "output_type": "execute_result"
    }
   ],
   "source": [
    "df['Ownership'].value_counts()"
   ]
  },
  {
   "cell_type": "markdown",
   "metadata": {},
   "source": [
    "Remove the fifth and sixth ownership as they are very low in number that might be outliers and can couse noise in the datasetd"
   ]
  },
  {
   "cell_type": "code",
   "execution_count": 46,
   "metadata": {},
   "outputs": [],
   "source": [
    "ind=df[(df['Ownership']=='Fifth') | (df['Ownership']=='Sixth')].index\n",
    "df.drop(ind,inplace=True)"
   ]
  },
  {
   "cell_type": "code",
   "execution_count": 27,
   "metadata": {},
   "outputs": [
    {
     "data": {
      "text/plain": [
       "Petrol          2939\n",
       "Diesel          1588\n",
       "Petrol + CNG     215\n",
       "Petrol + LPG      20\n",
       "Electric           3\n",
       "Name: Fuel_type, dtype: int64"
      ]
     },
     "execution_count": 27,
     "metadata": {},
     "output_type": "execute_result"
    }
   ],
   "source": [
    "df['Fuel_type'].value_counts()"
   ]
  },
  {
   "cell_type": "markdown",
   "metadata": {},
   "source": [
    "Remove Fuel_type- Electric as it might cause noise in the data"
   ]
  },
  {
   "cell_type": "code",
   "execution_count": 47,
   "metadata": {},
   "outputs": [],
   "source": [
    "ind=df[df['Fuel_type']=='Electric'].index\n",
    "df.drop(ind,inplace=True)"
   ]
  },
  {
   "cell_type": "code",
   "execution_count": 48,
   "metadata": {},
   "outputs": [
    {
     "data": {
      "text/plain": [
       "MANUAL       4361\n",
       "AUTOMATIC     398\n",
       "Name: Transmission, dtype: int64"
      ]
     },
     "execution_count": 48,
     "metadata": {},
     "output_type": "execute_result"
    }
   ],
   "source": [
    "df['Transmission'].value_counts()"
   ]
  },
  {
   "cell_type": "code",
   "execution_count": 49,
   "metadata": {},
   "outputs": [
    {
     "data": {
      "text/plain": [
       "Comprehensive        2107\n",
       "Third Party          1673\n",
       "Zero Depreciation     741\n",
       "Insurance Expired     180\n",
       "Not Available          58\n",
       "Name: Insurance_type, dtype: int64"
      ]
     },
     "execution_count": 49,
     "metadata": {},
     "output_type": "execute_result"
    }
   ],
   "source": [
    "df['Insurance_type'].value_counts()"
   ]
  },
  {
   "cell_type": "code",
   "execution_count": 30,
   "metadata": {},
   "outputs": [],
   "source": [
    "d={'Comp':'Comprehensive','Third_party':'Third Party','3rd Party':'Third Party',\n",
    "  'Zero_Dep':'Zero Depreciation','null':'Not Available','NA':'Not Available'}\n",
    "\n",
    "#df['Insurance_type'].apply(lambda x:x.replace(key,values) for key,values in d.items())"
   ]
  },
  {
   "cell_type": "code",
   "execution_count": 31,
   "metadata": {},
   "outputs": [],
   "source": [
    "for key,values in d.items():\n",
    "    df['Insurance_type']=df['Insurance_type'].apply(lambda x:x.replace(key,values) )"
   ]
  },
  {
   "cell_type": "code",
   "execution_count": 32,
   "metadata": {},
   "outputs": [
    {
     "data": {
      "text/plain": [
       "Comprehensive             1964\n",
       "Third Party               1675\n",
       "Zero Depreciation          742\n",
       "Insurance Expired          182\n",
       "Comprehensiverehensive     144\n",
       "Not Available               58\n",
       "Name: Insurance_type, dtype: int64"
      ]
     },
     "execution_count": 32,
     "metadata": {},
     "output_type": "execute_result"
    }
   ],
   "source": [
    "df['Insurance_type'].value_counts()"
   ]
  },
  {
   "cell_type": "code",
   "execution_count": 33,
   "metadata": {},
   "outputs": [],
   "source": [
    "df['Insurance_type']=df['Insurance_type'].replace('Comprehensiverehensive','Comprehensive')"
   ]
  },
  {
   "cell_type": "code",
   "execution_count": 34,
   "metadata": {},
   "outputs": [
    {
     "data": {
      "text/plain": [
       "Comprehensive        2108\n",
       "Third Party          1675\n",
       "Zero Depreciation     742\n",
       "Insurance Expired     182\n",
       "Not Available          58\n",
       "Name: Insurance_type, dtype: int64"
      ]
     },
     "execution_count": 34,
     "metadata": {},
     "output_type": "execute_result"
    }
   ],
   "source": [
    "df['Insurance_type'].value_counts()"
   ]
  },
  {
   "cell_type": "code",
   "execution_count": 35,
   "metadata": {},
   "outputs": [
    {
     "data": {
      "text/plain": [
       "NewDelhi     1025\n",
       "Mumbai        852\n",
       "Bangalore     657\n",
       "Chennai       544\n",
       "Pune          514\n",
       "Hyderabad     426\n",
       "Ahmedabad     313\n",
       "Noida         243\n",
       "Gurgaon       113\n",
       "Kolkata        78\n",
       "Name: City, dtype: int64"
      ]
     },
     "execution_count": 35,
     "metadata": {},
     "output_type": "execute_result"
    }
   ],
   "source": [
    "df.City.value_counts()"
   ]
  },
  {
   "cell_type": "code",
   "execution_count": 69,
   "metadata": {},
   "outputs": [
    {
     "name": "stdout",
     "output_type": "stream",
     "text": [
      "<class 'pandas.core.frame.DataFrame'>\n",
      "Int64Index: 4747 entries, 0 to 4775\n",
      "Data columns (total 11 columns):\n",
      " #   Column              Non-Null Count  Dtype         \n",
      "---  ------              --------------  -----         \n",
      " 0   Name                4747 non-null   object        \n",
      " 1   Price               4747 non-null   int64         \n",
      " 2   Distance_travelled  4747 non-null   int64         \n",
      " 3   Date_of_purchase    4747 non-null   datetime64[ns]\n",
      " 4   Ownership           4747 non-null   object        \n",
      " 5   Fuel_type           4747 non-null   object        \n",
      " 6   Transmission        4747 non-null   object        \n",
      " 7   Insurance_type      4747 non-null   object        \n",
      " 8   City                4747 non-null   object        \n",
      " 9   Company_name        4747 non-null   object        \n",
      " 10  Model_name          4747 non-null   object        \n",
      "dtypes: datetime64[ns](1), int64(2), object(8)\n",
      "memory usage: 445.0+ KB\n"
     ]
    }
   ],
   "source": [
    "df.info()"
   ]
  },
  {
   "cell_type": "code",
   "execution_count": 66,
   "metadata": {},
   "outputs": [
    {
     "data": {
      "text/plain": [
       "Maruti        2201\n",
       "Hyundai       1107\n",
       "Honda          350\n",
       "Toyota         254\n",
       "Volkswagen     144\n",
       "Mahindra       141\n",
       "Ford           122\n",
       "Renault        121\n",
       "Tata            80\n",
       "Skoda           35\n",
       "Chevrolet       33\n",
       "Mercedes        32\n",
       "Nissan          31\n",
       "BMW             20\n",
       "Audi            19\n",
       "Datsun          17\n",
       "KIA             12\n",
       "MG              12\n",
       "Jeep             8\n",
       "Fiat             8\n",
       "Name: Company_name, dtype: int64"
      ]
     },
     "execution_count": 66,
     "metadata": {},
     "output_type": "execute_result"
    }
   ],
   "source": [
    "df['Company_name'].value_counts()"
   ]
  },
  {
   "cell_type": "code",
   "execution_count": 68,
   "metadata": {},
   "outputs": [],
   "source": [
    "# save the dataset into csv format for further EDA.\n",
    "df.to_csv('cleaned_data.csv',index=False)"
   ]
  },
  {
   "cell_type": "code",
   "execution_count": null,
   "metadata": {},
   "outputs": [],
   "source": []
  }
 ],
 "metadata": {
  "kernelspec": {
   "display_name": "Python 3",
   "language": "python",
   "name": "python3"
  },
  "language_info": {
   "codemirror_mode": {
    "name": "ipython",
    "version": 3
   },
   "file_extension": ".py",
   "mimetype": "text/x-python",
   "name": "python",
   "nbconvert_exporter": "python",
   "pygments_lexer": "ipython3",
   "version": "3.7.10"
  }
 },
 "nbformat": 4,
 "nbformat_minor": 4
}
